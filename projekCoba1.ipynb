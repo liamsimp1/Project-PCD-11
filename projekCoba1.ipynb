{
 "cells": [
  {
   "cell_type": "code",
   "execution_count": 214,
   "id": "d00d1b3b",
   "metadata": {},
   "outputs": [],
   "source": [
    "import os\n",
    "import cv2 as cv\n",
    "import matplotlib.pyplot as plt\n",
    "import numpy as np\n",
    "import pandas as pd\n",
    "from tqdm import tqdm\n",
    "from sklearn.model_selection import train_test_split, cross_val_predict\n",
    "from sklearn.metrics import accuracy_score, classification_report\n",
    "from skimage.feature import graycomatrix, graycoprops\n",
    "from scipy.stats import entropy\n",
    "from sklearn.ensemble import RandomForestClassifier\n",
    "from sklearn.svm import SVC\n",
    "from sklearn.neighbors import KNeighborsClassifier\n",
    "from sklearn.metrics import accuracy_score, precision_score, recall_score, f1_score, confusion_matrix, classification_report\n",
    "from sklearn.metrics import (confusion_matrix, ConfusionMatrixDisplay)\n",
    "import seaborn as sns"
   ]
  },
  {
   "cell_type": "code",
   "execution_count": 215,
   "id": "20e21e70",
   "metadata": {},
   "outputs": [],
   "source": [
    "def resize_image(img, new_size=(256, 256)):\n",
    "    return cv.resize(img, new_size)"
   ]
  },
  {
   "cell_type": "code",
   "execution_count": 216,
   "id": "5db5bd1e",
   "metadata": {},
   "outputs": [],
   "source": [
    "def insertGambar(folder):\n",
    "    data = []\n",
    "    filenames = []\n",
    "    datalabel = [] \n",
    "    path = []\n",
    "    data_distribution = {}\n",
    "    for label in (os.listdir(folder)):\n",
    "        images = os.listdir(folder+label)\n",
    "        data_distribution[label] = len(images)\n",
    "        datalabel.append(label)\n",
    "        print(label)\n",
    "        count = 0\n",
    "        for filename in tqdm(os.listdir(folder+label)):\n",
    "            if count == 100:\n",
    "                break\n",
    "            else :\n",
    "                count += 1\n",
    "            img = cv.imread(os.path.join(folder+label,filename))\n",
    "            if img is not None:\n",
    "                img = cv.cvtColor(img, cv.COLOR_BGR2RGB)\n",
    "                img = resize_image(img, (256, 256))\n",
    "                filenames.append(filename)\n",
    "                path.append(label)\n",
    "                data.append(img)\n",
    "    return data, filenames, datalabel, path , data_distribution"
   ]
  },
  {
   "cell_type": "code",
   "execution_count": 217,
   "id": "bbd26c45",
   "metadata": {},
   "outputs": [
    {
     "name": "stdout",
     "output_type": "stream",
     "text": [
      "Acne vulgaris\n"
     ]
    },
    {
     "name": "stderr",
     "output_type": "stream",
     "text": [
      "100%|██████████| 100/100 [00:01<00:00, 53.24it/s]\n"
     ]
    },
    {
     "name": "stdout",
     "output_type": "stream",
     "text": [
      "Rosacea\n"
     ]
    },
    {
     "name": "stderr",
     "output_type": "stream",
     "text": [
      "100%|██████████| 100/100 [00:01<00:00, 51.57it/s]"
     ]
    },
    {
     "name": "stdout",
     "output_type": "stream",
     "text": [
      "Jumlah gambar: 200\n",
      "Jumlah label unik: 2\n",
      "Jumlah nama file: 200\n",
      "Distribusi data: {'Acne vulgaris': 100, 'Rosacea': 100}\n"
     ]
    },
    {
     "name": "stderr",
     "output_type": "stream",
     "text": [
      "\n"
     ]
    }
   ],
   "source": [
    "images, filenames, labels, path, distribusi = insertGambar(\"dataset/dataset/\")\n",
    "\n",
    "print(\"Jumlah gambar:\", len(images))\n",
    "print(\"Jumlah label unik:\", len(labels))\n",
    "print(\"Jumlah nama file:\", len(filenames))\n",
    "print(\"Distribusi data:\", distribusi)\n"
   ]
  },
  {
   "cell_type": "code",
   "execution_count": 218,
   "id": "5f7635a7",
   "metadata": {},
   "outputs": [],
   "source": [
    "def display_sample(images):\n",
    "  plt.figure(figsize=(20,10))\n",
    "  for i in range(7):\n",
    "    plt.subplot(1,7,i+1)\n",
    "    plt.xticks([])\n",
    "    plt.yticks([])\n",
    "    plt.grid(False)\n",
    "    plt.imshow(images[i], cmap='gray')\n",
    "  plt.show()    "
   ]
  },
  {
   "cell_type": "code",
   "execution_count": 219,
   "id": "e053b401",
   "metadata": {},
   "outputs": [],
   "source": [
    "def gray_scaling(img):\n",
    "    gray = cv.cvtColor(img, cv.COLOR_BGR2GRAY)\n",
    "    return gray"
   ]
  },
  {
   "cell_type": "code",
   "execution_count": 220,
   "id": "0333991c",
   "metadata": {},
   "outputs": [],
   "source": [
    "def median(img):\n",
    "    height, width = img.shape\n",
    "    kernel = np.zeros((3, 3), np.float32) / 9\n",
    "    hasilMedian = np.zeros((height, width), dtype=np.uint8)\n",
    "    for i in range(kernel.shape[0]//2, height-kernel.shape[0]//2):\n",
    "        for j in range(kernel.shape[0]//2, width-kernel.shape[0]//2):\n",
    "            temp = []\n",
    "            for k in range(-kernel.shape[0]//2, kernel.shape[0]//2+1):\n",
    "                for l in range(-kernel.shape[0]//2, kernel.shape[0]//2+1):\n",
    "                    temp.append(img[i+k][j+l])\n",
    "            temp.sort()\n",
    "            median = temp[kernel.shape[0]**2//2]\n",
    "            if kernel.shape[0]**2 % 2 == 0:\n",
    "                median = (temp[kernel.shape[0]**2//2 - 1] + temp[kernel.shape[0]**2//2]) // 2\n",
    "            else:\n",
    "                median = temp[kernel.shape[0]**2//2]\n",
    "            hasilMedian[i][j] = median\n",
    "\n",
    "    return hasilMedian"
   ]
  },
  {
   "cell_type": "code",
   "execution_count": 221,
   "id": "bb567e89",
   "metadata": {},
   "outputs": [],
   "source": [
    "def getPad(image, kernel):\n",
    "    i = (kernel.shape[1]-1)//2\n",
    "    j = (kernel.shape[0]-1)//2\n",
    "\n",
    "    kiri = i\n",
    "    kanan = (kernel.shape[1]-1)-i\n",
    "    atas = j\n",
    "    bawah = (kernel.shape[0]-1)-j\n",
    "    result = np.pad(image,((atas, bawah), (kiri,kanan)), 'edge')\n",
    "\n",
    "    return result\n",
    "\n",
    "prewittX = np.array([\n",
    "    [-1,0,1],\n",
    "    [-1,0,1],\n",
    "    [-1,0,1]\n",
    "])\n",
    "\n",
    "prewittY = np.array([\n",
    "    [1,1,1],\n",
    "    [0,0,0],\n",
    "    [-1,-1,-1]\n",
    "])\n",
    "\n",
    "def findEdge(image, kernelx, kernely):\n",
    "    result = np.zeros(image.shape, dtype=float)\n",
    "    pad = getPad(image, kernelx)\n",
    "\n",
    "    for i in range(image.shape[0]):\n",
    "        for j in range(image.shape[1]):\n",
    "            x = 0\n",
    "            y = 0\n",
    "            for k in range(kernelx.shape[0]):\n",
    "                for l in range(kernelx.shape[1]):\n",
    "                    x += pad[i+k][j+l] * kernelx[k,l]\n",
    "                    y += pad[i+k][j+l] * kernely[k,l]\n",
    "            result[i,j] = np.sqrt(x*x + y*y)\n",
    "    return result\n",
    "\n",
    "def prewittFilterData(img):\n",
    "    gambar = findEdge(img, prewittX, prewittY)\n",
    "    return gambar"
   ]
  },
  {
   "cell_type": "code",
   "execution_count": 222,
   "id": "d0ed59ac",
   "metadata": {},
   "outputs": [],
   "source": [
    "def threshold(gambar):\n",
    "    ambang = 10\n",
    "    hasilThreshold = np.where(gambar >= ambang, 128, 255)\n",
    "    return hasilThreshold"
   ]
  },
  {
   "cell_type": "code",
   "execution_count": 223,
   "id": "1ebfa307",
   "metadata": {},
   "outputs": [],
   "source": [
    "kernel = np.array([[0, 0, 1, 1, 1],\n",
    "                   [0, 0, 1, 1, 1],\n",
    "                   [1, 1, 1, 1, 1],\n",
    "                   [1, 1, 1, 0, 0],\n",
    "                   [1, 1, 1, 0, 0]])\n",
    "\n",
    "def dilasi(citra, mask):\n",
    "    tinggiPad, lebarPad = mask.shape[0] // 2, mask.shape[1] // 2\n",
    "    citraPad = np.pad(citra, ((tinggiPad, tinggiPad), (lebarPad, lebarPad)), mode='constant', constant_values=0)\n",
    "    output = np.zeros(citra.shape, dtype=np.uint8)\n",
    "\n",
    "    for baris in range(tinggiPad, citraPad.shape[0] - tinggiPad):\n",
    "        for kolom in range(lebarPad, citraPad.shape[1] - lebarPad):\n",
    "            area = citraPad[baris - tinggiPad:baris + tinggiPad + 1, kolom - lebarPad:kolom + lebarPad + 1]\n",
    "            if np.any(area[mask == 1] == 255):\n",
    "                output[baris - tinggiPad, kolom - lebarPad] = 255\n",
    "\n",
    "    return output\n",
    "\n",
    "def erosi(citra, mask):\n",
    "    padT, padL = mask.shape[0] // 2, mask.shape[1] // 2\n",
    "    citraPad = np.pad(citra, ((padT, padT), (padL, padL)), mode='constant', constant_values=255)\n",
    "    hasil = np.zeros_like(citra, dtype=np.uint8)\n",
    "\n",
    "    for r in range(padT, citraPad.shape[0] - padT):\n",
    "        for c in range(padL, citraPad.shape[1] - padL):\n",
    "            blok = citraPad[r - padT:r + padT + 1, c - padL:c + padL + 1]\n",
    "            if np.all(blok[mask == 1] == 255):\n",
    "                hasil[r - padT, c - padL] = 255\n",
    "\n",
    "    return hasil\n",
    "\n",
    "def opening(citra, mask):\n",
    "    erosiHasil = erosi(citra, mask)\n",
    "    openingHasil = dilasi(erosiHasil, mask)\n",
    "    return openingHasil"
   ]
  },
  {
   "cell_type": "code",
   "execution_count": 224,
   "id": "6b6117ba",
   "metadata": {},
   "outputs": [],
   "source": [
    "def normalize_image(image, skala_min=0, skala_max=255):\n",
    "    image = image.astype(np.float32)\n",
    "    min_val, max_val = np.min(image), np.max(image)\n",
    "\n",
    "    if max_val == min_val:\n",
    "        return np.full(image.shape, skala_min, dtype=np.uint8)  \n",
    "\n",
    "    return ((image - min_val) * (skala_max - skala_min) / (max_val - min_val) + skala_min).astype(np.uint8)"
   ]
  },
  {
   "cell_type": "code",
   "execution_count": 225,
   "id": "1a7118ac",
   "metadata": {},
   "outputs": [],
   "source": [
    "dataPreprocessed = []\n",
    "for i in range(len(images)): \n",
    "    resize_img = resize_image(images[i])\n",
    "    gray_img = gray_scaling(resize_img)\n",
    "    medianData = median(gray_img)\n",
    "    prewittData = prewittFilterData(medianData)\n",
    "    thresholdData = threshold(prewittData)\n",
    "    openingData = opening(thresholdData, kernel)\n",
    "    normalizeData = normalize_image(openingData)\n",
    "    \n",
    "    dataPreprocessed.append(normalizeData)"
   ]
  },
  {
   "cell_type": "markdown",
   "id": "32e3069d",
   "metadata": {},
   "source": [
    "<h1>Feature Extraction</h1>"
   ]
  },
  {
   "cell_type": "code",
   "execution_count": 226,
   "id": "7c96142c",
   "metadata": {},
   "outputs": [],
   "source": [
    "def glcm(image, derajat):\n",
    "    if derajat == 0:\n",
    "        angles = [0]\n",
    "    elif derajat == 45:\n",
    "        angles = [np.pi / 4]\n",
    "    elif derajat == 90:\n",
    "        angles = [np.pi / 2]\n",
    "    elif derajat == 135:\n",
    "        angles = [3 * np.pi / 4]\n",
    "    else:\n",
    "        raise ValueError(\"Invalid angle. It should be one of the following: 0, 45, 90, 135.\")\n",
    "    \n",
    "    glcm = graycomatrix(image, [1], angles, 256, symmetric=True, normed=True)\n",
    "    return glcm"
   ]
  },
  {
   "cell_type": "code",
   "execution_count": 227,
   "id": "59afd7ab",
   "metadata": {},
   "outputs": [],
   "source": [
    "def correlation(matriks):\n",
    "\treturn graycoprops(matriks, 'correlation')[0, 0]"
   ]
  },
  {
   "cell_type": "code",
   "execution_count": 228,
   "id": "43a2c2b0",
   "metadata": {},
   "outputs": [],
   "source": [
    "def dissimilarity(matriks):\n",
    "    return graycoprops(matriks, 'dissimilarity')[0, 0]"
   ]
  },
  {
   "cell_type": "code",
   "execution_count": 229,
   "id": "0005233f",
   "metadata": {},
   "outputs": [],
   "source": [
    "def homogenity(matriks):\n",
    "    return graycoprops(matriks, 'homogeneity')[0, 0]"
   ]
  },
  {
   "cell_type": "code",
   "execution_count": 230,
   "id": "4aa6e401",
   "metadata": {},
   "outputs": [],
   "source": [
    "def contrast(matriks):\n",
    "    return graycoprops(matriks, 'contrast')[0, 0]"
   ]
  },
  {
   "cell_type": "code",
   "execution_count": 231,
   "id": "9005664b",
   "metadata": {},
   "outputs": [],
   "source": [
    "def ASM(matriks):\n",
    "    return graycoprops(matriks, 'ASM')[0, 0]"
   ]
  },
  {
   "cell_type": "code",
   "execution_count": 232,
   "id": "5e216315",
   "metadata": {},
   "outputs": [],
   "source": [
    "def energy(matriks):\n",
    "    return graycoprops(matriks, 'energy')[0, 0]"
   ]
  },
  {
   "cell_type": "code",
   "execution_count": 233,
   "id": "fd6c5c35",
   "metadata": {},
   "outputs": [],
   "source": [
    "def entropyGlcm(matriks):\n",
    "    return entropy(matriks.ravel())"
   ]
  },
  {
   "cell_type": "code",
   "execution_count": 234,
   "id": "48996903",
   "metadata": {},
   "outputs": [],
   "source": [
    "Derajat0 = []\n",
    "Derajat45 = []\n",
    "Derajat90 = []\n",
    "Derajat135 = []\n",
    "for i in range(len(dataPreprocessed)):\n",
    "    D0 = glcm(dataPreprocessed[i], 0)\n",
    "    D45 = glcm(dataPreprocessed[i], 45)\n",
    "    D90 = glcm(dataPreprocessed[i], 90)\n",
    "    D135 = glcm(dataPreprocessed[i], 135)\n",
    "    Derajat0.append(D0)\n",
    "    Derajat45.append(D45)\n",
    "    Derajat90.append(D90)\n",
    "    Derajat135.append(D135)"
   ]
  },
  {
   "cell_type": "code",
   "execution_count": 235,
   "id": "dab529d8",
   "metadata": {},
   "outputs": [],
   "source": [
    "Kontras0, Kontras45, Kontras90, Kontras135 = [], [], [], []\n",
    "dissimilarity0, dissimilarity45, dissimilarity90, dissimilarity135 =  [], [], [], []\n",
    "homogenity0, homogenity45, homogenity90, homogenity135 = [], [], [], []\n",
    "entropy0, entropy45, entropy90, entropy135 =  [], [], [], []\n",
    "ASM0, ASM45, ASM90, ASM135 =  [], [], [], []\n",
    "energy0, energy45, energy90, energy135 =  [], [], [], []\n",
    "correlation0, correlation45, correlation90, correlation135 = [], [], [], []"
   ]
  },
  {
   "cell_type": "code",
   "execution_count": 248,
   "id": "7686f6ab",
   "metadata": {},
   "outputs": [],
   "source": [
    "for i in range(len(dataPreprocessed)):\n",
    "    H0 = homogenity(Derajat0[i])\n",
    "    homogenity0.append(H0)\n",
    "    H45 = homogenity(Derajat45[i])\n",
    "    homogenity45.append(H45)\n",
    "    H90 = homogenity(Derajat90[i])\n",
    "    homogenity90.append(H90)\n",
    "    H135 = homogenity(Derajat135[i])\n",
    "    homogenity135.append(H135)"
   ]
  },
  {
   "cell_type": "code",
   "execution_count": 236,
   "id": "e6a90d34",
   "metadata": {},
   "outputs": [],
   "source": [
    "for i in range(len(dataPreprocessed)):\n",
    "    C0 = correlation(Derajat0[i])\n",
    "    correlation0.append(C0)\n",
    "    C45 = correlation(Derajat45[i])\n",
    "    correlation45.append(C45)\n",
    "    C90 = correlation(Derajat90[i])\n",
    "    correlation90.append(C90)\n",
    "    C135 = correlation(Derajat135[i])\n",
    "    correlation135.append(C135)"
   ]
  },
  {
   "cell_type": "code",
   "execution_count": 237,
   "id": "e7314061",
   "metadata": {},
   "outputs": [],
   "source": [
    "for i in range(len(images)):\n",
    "    K0 = contrast(Derajat0[i])\n",
    "    K45 = contrast(Derajat45[i])\n",
    "    K90 = contrast(Derajat90[i])\n",
    "    K135 = contrast(Derajat135[i])\n",
    "    Kontras0.append(K0)\n",
    "    Kontras45.append(K45)\n",
    "    Kontras90.append(K90)\n",
    "    Kontras135.append(K135)"
   ]
  },
  {
   "cell_type": "code",
   "execution_count": 238,
   "id": "d205f76e",
   "metadata": {},
   "outputs": [],
   "source": [
    "for i in range(len(images)):\n",
    "    Dis0 = dissimilarity(Derajat0[i])\n",
    "    Dis45 = dissimilarity(Derajat45[i])\n",
    "    Dis90 = dissimilarity(Derajat90[i])\n",
    "    Dis135 = dissimilarity(Derajat135[i])\n",
    "    dissimilarity0.append(Dis0)\n",
    "    dissimilarity45.append(Dis45)\n",
    "    dissimilarity90.append(Dis90)\n",
    "    dissimilarity135.append(Dis135)"
   ]
  },
  {
   "cell_type": "code",
   "execution_count": 239,
   "id": "37a05da8",
   "metadata": {},
   "outputs": [],
   "source": [
    "for i in range(len(images)):  \n",
    "    E0 = entropyGlcm(Derajat0[i])\n",
    "    E45 = entropyGlcm(Derajat45[i])\n",
    "    E90 = entropyGlcm(Derajat90[i])\n",
    "    E135 = entropyGlcm(Derajat135[i])\n",
    "    entropy0.append(E0)\n",
    "    entropy45.append(E45)\n",
    "    entropy90.append(E90)\n",
    "    entropy135.append(E135)"
   ]
  },
  {
   "cell_type": "code",
   "execution_count": 240,
   "id": "fbb7b871",
   "metadata": {},
   "outputs": [],
   "source": [
    "for i in range(len(images)):\n",
    "    A0 = ASM(Derajat0[i])\n",
    "    A45 = ASM(Derajat45[i])\n",
    "    A90 = ASM(Derajat90[i])\n",
    "    A135 = ASM(Derajat135[i])\n",
    "    ASM0.append(A0)\n",
    "    ASM45.append(A45)\n",
    "    ASM90.append(A90)\n",
    "    ASM135.append(A135)"
   ]
  },
  {
   "cell_type": "code",
   "execution_count": 241,
   "id": "1fdf5607",
   "metadata": {},
   "outputs": [],
   "source": [
    "for i in range(len(images)):\n",
    "    ER0 = energy(Derajat0[i])\n",
    "    ER45 = energy(Derajat45[i])\n",
    "    ER90 = energy(Derajat90[i])\n",
    "    ER135 = energy(Derajat135[i])\n",
    "    energy0.append(ER0)\n",
    "    energy45.append(ER45)\n",
    "    energy90.append(ER90)\n",
    "    energy135.append(ER135)"
   ]
  },
  {
   "cell_type": "code",
   "execution_count": 244,
   "id": "20822c92",
   "metadata": {},
   "outputs": [
    {
     "name": "stdout",
     "output_type": "stream",
     "text": [
      "Min: 0 Max: 255\n"
     ]
    }
   ],
   "source": [
    "print(\"Min:\", np.min(dataPreprocessed[i]), \"Max:\", np.max(dataPreprocessed[i]))"
   ]
  },
  {
   "cell_type": "code",
   "execution_count": 249,
   "id": "103e020c",
   "metadata": {},
   "outputs": [
    {
     "name": "stdout",
     "output_type": "stream",
     "text": [
      "Jumlah Labels: 200\n",
      "Jumlah Filename: 200\n",
      "Jumlah Kontras0: 200 200 200 200\n",
      "Jumlah Homogeneity0: 200 200 200 200\n",
      "Jumlah Dissimilarity0: 200 200 200 200\n",
      "Jumlah Entropy0: 200 200 200 200\n",
      "Jumlah ASM0: 200 200 200 200\n",
      "Jumlah Energy0: 200 200 200 200\n",
      "Jumlah Correlation0: 200 200 200 200\n"
     ]
    }
   ],
   "source": [
    "print(\"Jumlah Labels:\", len(path))\n",
    "print(\"Jumlah Filename:\", len(filenames))\n",
    "print(\"Jumlah Kontras0:\", len(Kontras0), len(Kontras45), len(Kontras90), len(Kontras135))\n",
    "print(\"Jumlah Homogeneity0:\", len(homogenity0), len(homogenity45), len(homogenity90), len(homogenity135))\n",
    "print(\"Jumlah Dissimilarity0:\", len(dissimilarity0), len(dissimilarity45), len(dissimilarity90), len(dissimilarity135))\n",
    "print(\"Jumlah Entropy0:\", len(entropy0), len(entropy45), len(entropy90), len(entropy135))\n",
    "print(\"Jumlah ASM0:\", len(ASM0), len(ASM45), len(ASM90), len(ASM135))\n",
    "print(\"Jumlah Energy0:\", len(energy0), len(energy45), len(energy90), len(energy135))\n",
    "print(\"Jumlah Correlation0:\", len(correlation0), len(correlation45), len(correlation90), len(correlation135))"
   ]
  },
  {
   "cell_type": "markdown",
   "id": "b90cb809",
   "metadata": {},
   "source": [
    "<h1>CSV</h1>"
   ]
  },
  {
   "cell_type": "code",
   "execution_count": 250,
   "id": "201b09d3",
   "metadata": {},
   "outputs": [
    {
     "data": {
      "text/html": [
       "<div>\n",
       "<style scoped>\n",
       "    .dataframe tbody tr th:only-of-type {\n",
       "        vertical-align: middle;\n",
       "    }\n",
       "\n",
       "    .dataframe tbody tr th {\n",
       "        vertical-align: top;\n",
       "    }\n",
       "\n",
       "    .dataframe thead th {\n",
       "        text-align: right;\n",
       "    }\n",
       "</style>\n",
       "<table border=\"1\" class=\"dataframe\">\n",
       "  <thead>\n",
       "    <tr style=\"text-align: right;\">\n",
       "      <th></th>\n",
       "      <th>Filename</th>\n",
       "      <th>Label</th>\n",
       "      <th>Contrast0</th>\n",
       "      <th>Contrast45</th>\n",
       "      <th>Contrast90</th>\n",
       "      <th>Contrast135</th>\n",
       "      <th>Homogeneity0</th>\n",
       "      <th>Homogeneity45</th>\n",
       "      <th>Homogeneity90</th>\n",
       "      <th>Homogeneity135</th>\n",
       "      <th>...</th>\n",
       "      <th>ASM90</th>\n",
       "      <th>ASM135</th>\n",
       "      <th>Energy0</th>\n",
       "      <th>Energy45</th>\n",
       "      <th>Energy90</th>\n",
       "      <th>Energy135</th>\n",
       "      <th>Correlation0</th>\n",
       "      <th>Correlation45</th>\n",
       "      <th>Correlation90</th>\n",
       "      <th>Correlation135</th>\n",
       "    </tr>\n",
       "  </thead>\n",
       "  <tbody>\n",
       "    <tr>\n",
       "      <th>0</th>\n",
       "      <td>10_1.jpg</td>\n",
       "      <td>Acne vulgaris</td>\n",
       "      <td>6823.242188</td>\n",
       "      <td>10090.0</td>\n",
       "      <td>5968.593750</td>\n",
       "      <td>8862.0</td>\n",
       "      <td>0.895069</td>\n",
       "      <td>0.844831</td>\n",
       "      <td>0.908212</td>\n",
       "      <td>0.863716</td>\n",
       "      <td>...</td>\n",
       "      <td>0.458574</td>\n",
       "      <td>0.425703</td>\n",
       "      <td>0.669340</td>\n",
       "      <td>0.642123</td>\n",
       "      <td>0.677181</td>\n",
       "      <td>0.652460</td>\n",
       "      <td>0.770920</td>\n",
       "      <td>0.660148</td>\n",
       "      <td>0.799614</td>\n",
       "      <td>0.701510</td>\n",
       "    </tr>\n",
       "    <tr>\n",
       "      <th>1</th>\n",
       "      <td>10_2.jpg</td>\n",
       "      <td>Acne vulgaris</td>\n",
       "      <td>6570.234375</td>\n",
       "      <td>9836.0</td>\n",
       "      <td>5615.976562</td>\n",
       "      <td>8338.0</td>\n",
       "      <td>0.898960</td>\n",
       "      <td>0.848737</td>\n",
       "      <td>0.913635</td>\n",
       "      <td>0.871774</td>\n",
       "      <td>...</td>\n",
       "      <td>0.491095</td>\n",
       "      <td>0.460248</td>\n",
       "      <td>0.692221</td>\n",
       "      <td>0.666070</td>\n",
       "      <td>0.700782</td>\n",
       "      <td>0.678416</td>\n",
       "      <td>0.765018</td>\n",
       "      <td>0.646550</td>\n",
       "      <td>0.799147</td>\n",
       "      <td>0.700379</td>\n",
       "    </tr>\n",
       "    <tr>\n",
       "      <th>2</th>\n",
       "      <td>10_3.jpg</td>\n",
       "      <td>Acne vulgaris</td>\n",
       "      <td>6755.507812</td>\n",
       "      <td>10526.0</td>\n",
       "      <td>5922.773438</td>\n",
       "      <td>8908.0</td>\n",
       "      <td>0.896111</td>\n",
       "      <td>0.838126</td>\n",
       "      <td>0.908917</td>\n",
       "      <td>0.863009</td>\n",
       "      <td>...</td>\n",
       "      <td>0.419632</td>\n",
       "      <td>0.383947</td>\n",
       "      <td>0.639783</td>\n",
       "      <td>0.605393</td>\n",
       "      <td>0.647790</td>\n",
       "      <td>0.619635</td>\n",
       "      <td>0.791207</td>\n",
       "      <td>0.674834</td>\n",
       "      <td>0.816945</td>\n",
       "      <td>0.724817</td>\n",
       "    </tr>\n",
       "    <tr>\n",
       "      <th>3</th>\n",
       "      <td>10_4.jpg</td>\n",
       "      <td>Acne vulgaris</td>\n",
       "      <td>7094.179688</td>\n",
       "      <td>11014.0</td>\n",
       "      <td>6137.929688</td>\n",
       "      <td>9164.0</td>\n",
       "      <td>0.890902</td>\n",
       "      <td>0.830622</td>\n",
       "      <td>0.905608</td>\n",
       "      <td>0.859072</td>\n",
       "      <td>...</td>\n",
       "      <td>0.415103</td>\n",
       "      <td>0.379665</td>\n",
       "      <td>0.635130</td>\n",
       "      <td>0.600036</td>\n",
       "      <td>0.644285</td>\n",
       "      <td>0.616169</td>\n",
       "      <td>0.781545</td>\n",
       "      <td>0.660740</td>\n",
       "      <td>0.810991</td>\n",
       "      <td>0.717725</td>\n",
       "    </tr>\n",
       "    <tr>\n",
       "      <th>4</th>\n",
       "      <td>10_5.jpg</td>\n",
       "      <td>Acne vulgaris</td>\n",
       "      <td>5773.359375</td>\n",
       "      <td>8626.0</td>\n",
       "      <td>5119.921875</td>\n",
       "      <td>7596.0</td>\n",
       "      <td>0.911215</td>\n",
       "      <td>0.867345</td>\n",
       "      <td>0.921263</td>\n",
       "      <td>0.883185</td>\n",
       "      <td>...</td>\n",
       "      <td>0.524348</td>\n",
       "      <td>0.496218</td>\n",
       "      <td>0.718319</td>\n",
       "      <td>0.695938</td>\n",
       "      <td>0.724119</td>\n",
       "      <td>0.704427</td>\n",
       "      <td>0.779748</td>\n",
       "      <td>0.668865</td>\n",
       "      <td>0.804676</td>\n",
       "      <td>0.708404</td>\n",
       "    </tr>\n",
       "    <tr>\n",
       "      <th>...</th>\n",
       "      <td>...</td>\n",
       "      <td>...</td>\n",
       "      <td>...</td>\n",
       "      <td>...</td>\n",
       "      <td>...</td>\n",
       "      <td>...</td>\n",
       "      <td>...</td>\n",
       "      <td>...</td>\n",
       "      <td>...</td>\n",
       "      <td>...</td>\n",
       "      <td>...</td>\n",
       "      <td>...</td>\n",
       "      <td>...</td>\n",
       "      <td>...</td>\n",
       "      <td>...</td>\n",
       "      <td>...</td>\n",
       "      <td>...</td>\n",
       "      <td>...</td>\n",
       "      <td>...</td>\n",
       "      <td>...</td>\n",
       "      <td>...</td>\n",
       "    </tr>\n",
       "    <tr>\n",
       "      <th>195</th>\n",
       "      <td>9_3.jpg</td>\n",
       "      <td>Rosacea</td>\n",
       "      <td>7118.085938</td>\n",
       "      <td>11674.0</td>\n",
       "      <td>6795.351562</td>\n",
       "      <td>9406.0</td>\n",
       "      <td>0.890535</td>\n",
       "      <td>0.820472</td>\n",
       "      <td>0.895498</td>\n",
       "      <td>0.855350</td>\n",
       "      <td>...</td>\n",
       "      <td>0.407092</td>\n",
       "      <td>0.377104</td>\n",
       "      <td>0.634973</td>\n",
       "      <td>0.594586</td>\n",
       "      <td>0.638038</td>\n",
       "      <td>0.614088</td>\n",
       "      <td>0.780770</td>\n",
       "      <td>0.640339</td>\n",
       "      <td>0.790710</td>\n",
       "      <td>0.710214</td>\n",
       "    </tr>\n",
       "    <tr>\n",
       "      <th>196</th>\n",
       "      <td>9_4.jpg</td>\n",
       "      <td>Rosacea</td>\n",
       "      <td>7404.960938</td>\n",
       "      <td>11084.0</td>\n",
       "      <td>6223.593750</td>\n",
       "      <td>9338.0</td>\n",
       "      <td>0.886123</td>\n",
       "      <td>0.829545</td>\n",
       "      <td>0.904291</td>\n",
       "      <td>0.856396</td>\n",
       "      <td>...</td>\n",
       "      <td>0.480717</td>\n",
       "      <td>0.446264</td>\n",
       "      <td>0.682903</td>\n",
       "      <td>0.654099</td>\n",
       "      <td>0.693338</td>\n",
       "      <td>0.668030</td>\n",
       "      <td>0.736838</td>\n",
       "      <td>0.604280</td>\n",
       "      <td>0.778822</td>\n",
       "      <td>0.666615</td>\n",
       "    </tr>\n",
       "    <tr>\n",
       "      <th>197</th>\n",
       "      <td>9_5.jpg</td>\n",
       "      <td>Rosacea</td>\n",
       "      <td>5880.937500</td>\n",
       "      <td>8378.0</td>\n",
       "      <td>4673.671875</td>\n",
       "      <td>7268.0</td>\n",
       "      <td>0.909560</td>\n",
       "      <td>0.871159</td>\n",
       "      <td>0.928126</td>\n",
       "      <td>0.888229</td>\n",
       "      <td>...</td>\n",
       "      <td>0.579727</td>\n",
       "      <td>0.550446</td>\n",
       "      <td>0.751115</td>\n",
       "      <td>0.733132</td>\n",
       "      <td>0.761398</td>\n",
       "      <td>0.741920</td>\n",
       "      <td>0.744201</td>\n",
       "      <td>0.632167</td>\n",
       "      <td>0.796713</td>\n",
       "      <td>0.680901</td>\n",
       "    </tr>\n",
       "    <tr>\n",
       "      <th>198</th>\n",
       "      <td>9_6.jpg</td>\n",
       "      <td>Rosacea</td>\n",
       "      <td>6631.992188</td>\n",
       "      <td>9360.0</td>\n",
       "      <td>4944.609375</td>\n",
       "      <td>8306.0</td>\n",
       "      <td>0.898010</td>\n",
       "      <td>0.856058</td>\n",
       "      <td>0.923960</td>\n",
       "      <td>0.872266</td>\n",
       "      <td>...</td>\n",
       "      <td>0.533055</td>\n",
       "      <td>0.494505</td>\n",
       "      <td>0.715350</td>\n",
       "      <td>0.694766</td>\n",
       "      <td>0.730106</td>\n",
       "      <td>0.703210</td>\n",
       "      <td>0.742891</td>\n",
       "      <td>0.634729</td>\n",
       "      <td>0.808307</td>\n",
       "      <td>0.675861</td>\n",
       "    </tr>\n",
       "    <tr>\n",
       "      <th>199</th>\n",
       "      <td>9_7.jpg</td>\n",
       "      <td>Rosacea</td>\n",
       "      <td>6177.773438</td>\n",
       "      <td>9050.0</td>\n",
       "      <td>5177.695312</td>\n",
       "      <td>7662.0</td>\n",
       "      <td>0.904995</td>\n",
       "      <td>0.860825</td>\n",
       "      <td>0.920375</td>\n",
       "      <td>0.882170</td>\n",
       "      <td>...</td>\n",
       "      <td>0.556071</td>\n",
       "      <td>0.528437</td>\n",
       "      <td>0.737141</td>\n",
       "      <td>0.715945</td>\n",
       "      <td>0.745702</td>\n",
       "      <td>0.726936</td>\n",
       "      <td>0.743672</td>\n",
       "      <td>0.621406</td>\n",
       "      <td>0.785167</td>\n",
       "      <td>0.679471</td>\n",
       "    </tr>\n",
       "  </tbody>\n",
       "</table>\n",
       "<p>200 rows × 30 columns</p>\n",
       "</div>"
      ],
      "text/plain": [
       "     Filename          Label    Contrast0  Contrast45   Contrast90  \\\n",
       "0    10_1.jpg  Acne vulgaris  6823.242188     10090.0  5968.593750   \n",
       "1    10_2.jpg  Acne vulgaris  6570.234375      9836.0  5615.976562   \n",
       "2    10_3.jpg  Acne vulgaris  6755.507812     10526.0  5922.773438   \n",
       "3    10_4.jpg  Acne vulgaris  7094.179688     11014.0  6137.929688   \n",
       "4    10_5.jpg  Acne vulgaris  5773.359375      8626.0  5119.921875   \n",
       "..        ...            ...          ...         ...          ...   \n",
       "195   9_3.jpg        Rosacea  7118.085938     11674.0  6795.351562   \n",
       "196   9_4.jpg        Rosacea  7404.960938     11084.0  6223.593750   \n",
       "197   9_5.jpg        Rosacea  5880.937500      8378.0  4673.671875   \n",
       "198   9_6.jpg        Rosacea  6631.992188      9360.0  4944.609375   \n",
       "199   9_7.jpg        Rosacea  6177.773438      9050.0  5177.695312   \n",
       "\n",
       "     Contrast135  Homogeneity0  Homogeneity45  Homogeneity90  Homogeneity135  \\\n",
       "0         8862.0      0.895069       0.844831       0.908212        0.863716   \n",
       "1         8338.0      0.898960       0.848737       0.913635        0.871774   \n",
       "2         8908.0      0.896111       0.838126       0.908917        0.863009   \n",
       "3         9164.0      0.890902       0.830622       0.905608        0.859072   \n",
       "4         7596.0      0.911215       0.867345       0.921263        0.883185   \n",
       "..           ...           ...            ...            ...             ...   \n",
       "195       9406.0      0.890535       0.820472       0.895498        0.855350   \n",
       "196       9338.0      0.886123       0.829545       0.904291        0.856396   \n",
       "197       7268.0      0.909560       0.871159       0.928126        0.888229   \n",
       "198       8306.0      0.898010       0.856058       0.923960        0.872266   \n",
       "199       7662.0      0.904995       0.860825       0.920375        0.882170   \n",
       "\n",
       "     ...     ASM90    ASM135   Energy0  Energy45  Energy90  Energy135  \\\n",
       "0    ...  0.458574  0.425703  0.669340  0.642123  0.677181   0.652460   \n",
       "1    ...  0.491095  0.460248  0.692221  0.666070  0.700782   0.678416   \n",
       "2    ...  0.419632  0.383947  0.639783  0.605393  0.647790   0.619635   \n",
       "3    ...  0.415103  0.379665  0.635130  0.600036  0.644285   0.616169   \n",
       "4    ...  0.524348  0.496218  0.718319  0.695938  0.724119   0.704427   \n",
       "..   ...       ...       ...       ...       ...       ...        ...   \n",
       "195  ...  0.407092  0.377104  0.634973  0.594586  0.638038   0.614088   \n",
       "196  ...  0.480717  0.446264  0.682903  0.654099  0.693338   0.668030   \n",
       "197  ...  0.579727  0.550446  0.751115  0.733132  0.761398   0.741920   \n",
       "198  ...  0.533055  0.494505  0.715350  0.694766  0.730106   0.703210   \n",
       "199  ...  0.556071  0.528437  0.737141  0.715945  0.745702   0.726936   \n",
       "\n",
       "     Correlation0  Correlation45  Correlation90  Correlation135  \n",
       "0        0.770920       0.660148       0.799614        0.701510  \n",
       "1        0.765018       0.646550       0.799147        0.700379  \n",
       "2        0.791207       0.674834       0.816945        0.724817  \n",
       "3        0.781545       0.660740       0.810991        0.717725  \n",
       "4        0.779748       0.668865       0.804676        0.708404  \n",
       "..            ...            ...            ...             ...  \n",
       "195      0.780770       0.640339       0.790710        0.710214  \n",
       "196      0.736838       0.604280       0.778822        0.666615  \n",
       "197      0.744201       0.632167       0.796713        0.680901  \n",
       "198      0.742891       0.634729       0.808307        0.675861  \n",
       "199      0.743672       0.621406       0.785167        0.679471  \n",
       "\n",
       "[200 rows x 30 columns]"
      ]
     },
     "execution_count": 250,
     "metadata": {},
     "output_type": "execute_result"
    }
   ],
   "source": [
    "dataTable = {'Filename': filenames, 'Label': path,\n",
    "        'Contrast0': Kontras0, 'Contrast45': Kontras45, 'Contrast90': Kontras90, 'Contrast135': Kontras135,\n",
    "        'Homogeneity0': homogenity0, 'Homogeneity45': homogenity45, 'Homogeneity90': homogenity90, 'Homogeneity135': homogenity135,\n",
    "        'Dissimilarity0': dissimilarity0, 'Dissimilarity45': dissimilarity45, 'Dissimilarity90': dissimilarity90, 'Dissimilarity135': dissimilarity135,\n",
    "        'Entropy0': entropy0, 'Entropy45': entropy45, 'Entropy90': entropy90, 'Entropy135': entropy135,\n",
    "        'ASM0': ASM0, 'ASM45': ASM45, 'ASM90': ASM90, 'ASM135': ASM135,\n",
    "        'Energy0': energy0, 'Energy45': energy45, 'Energy90': energy90, 'Energy135': energy135,\n",
    "        'Correlation0': correlation0, 'Correlation45': correlation45, 'Correlation90': correlation90, 'Correlation135': correlation135,\n",
    "        }\n",
    "df = pd.DataFrame(dataTable)\n",
    "df.to_csv('hasil_ekstraksi_1.csv', index=False)\n",
    "\n",
    "hasilEkstrak = pd.read_csv('hasil_ekstraksi_1.csv')\n",
    "hasilEkstrak"
   ]
  },
  {
   "cell_type": "code",
   "execution_count": 251,
   "id": "6e6cf7f3",
   "metadata": {},
   "outputs": [
    {
     "data": {
      "text/plain": [
       "<Axes: >"
      ]
     },
     "execution_count": 251,
     "metadata": {},
     "output_type": "execute_result"
    },
    {
     "data": {
      "image/png": "[encoded data removed]",
      "text/plain": [
       "<Figure size 1700x1700 with 2 Axes>"
      ]
     },
     "metadata": {},
     "output_type": "display_data"
    }
   ],
   "source": [
    "# Menghitung korelasi\n",
    "correlation = hasilEkstrak.drop(columns=['Label','Filename']).corr()\n",
    "\n",
    "# Menyaring fitur yang memiliki korelasi absolut lebih dari 0.95 dengan label\n",
    "threshold = 0.95 # atur threshold ini untuk menentukan seberapa besar korelasi yang ingin disaring\n",
    "selectionFeature = []\n",
    "columns = np.full((correlation.shape[0],), True, dtype=bool)\n",
    "for i in range(correlation.shape[0]):\n",
    "\tfor j in range(i+1, correlation.shape[0]):\n",
    "\t\tif correlation.iloc[i,j] >= threshold:\n",
    "\t\t\tif columns[j]:\n",
    "\t\t\t\tcolumns[j] = False\n",
    "select = hasilEkstrak.drop(columns=['Label','Filename']).columns[columns]\n",
    "x_new = hasilEkstrak[select]\n",
    "x_new\n",
    "y = hasilEkstrak['Label']\n",
    "plt.figure(figsize=(17,17))\n",
    "sns.heatmap(x_new.corr(), annot=True, cmap='Blues', fmt=\".2f\")"
   ]
  },
  {
   "cell_type": "code",
   "execution_count": 252,
   "id": "676585f5",
   "metadata": {},
   "outputs": [
    {
     "name": "stdout",
     "output_type": "stream",
     "text": [
      "(160, 8)\n",
      "(40, 8)\n"
     ]
    }
   ],
   "source": [
    "# ubah bagian test_size sesuai kebutuhan\n",
    "# 0.3 = 30% data untuk testing (train/test 70/30)\n",
    "# 0.2 = 20% data untuk testing (train/test 80/20)\n",
    "X_train, X_test, y_train, y_test = train_test_split(x_new, y, test_size=0.2, random_state=42)\n",
    "print(X_train.shape)\n",
    "print(X_test.shape)"
   ]
  },
  {
   "cell_type": "code",
   "execution_count": 253,
   "id": "488a4708",
   "metadata": {},
   "outputs": [],
   "source": [
    "\n",
    "# normalisasi mean std\n",
    "X_test = (X_test - X_train.mean()) / X_train.std()\n",
    "X_train = (X_train - X_train.mean()) / X_train.std()"
   ]
  },
  {
   "cell_type": "code",
   "execution_count": 255,
   "id": "530a284b",
   "metadata": {},
   "outputs": [],
   "source": [
    "def generateClassificationReport(y_true, y_pred):\n",
    "\tprint(classification_report(y_true, y_pred))\n",
    "\tprint(confusion_matrix(y_true, y_pred))\n",
    "\tprint('Accuracy:', accuracy_score(y_true, y_pred))\n",
    "\n",
    "# Define classifiers\n",
    "rf = RandomForestClassifier(n_estimators=5, random_state=42)\n",
    "svm = SVC(kernel='rbf', random_state=42)\n",
    "knn = KNeighborsClassifier(n_neighbors=5)"
   ]
  },
  {
   "cell_type": "code",
   "execution_count": 256,
   "id": "cf1bdacf",
   "metadata": {},
   "outputs": [
    {
     "name": "stdout",
     "output_type": "stream",
     "text": [
      "------Training Set------\n",
      "               precision    recall  f1-score   support\n",
      "\n",
      "Acne vulgaris       0.94      0.94      0.94        79\n",
      "      Rosacea       0.94      0.94      0.94        81\n",
      "\n",
      "     accuracy                           0.94       160\n",
      "    macro avg       0.94      0.94      0.94       160\n",
      " weighted avg       0.94      0.94      0.94       160\n",
      "\n",
      "[[74  5]\n",
      " [ 5 76]]\n",
      "Accuracy: 0.9375\n",
      "\n",
      "------Testing Set------\n",
      "               precision    recall  f1-score   support\n",
      "\n",
      "Acne vulgaris       0.62      0.48      0.54        21\n",
      "      Rosacea       0.54      0.68      0.60        19\n",
      "\n",
      "     accuracy                           0.57        40\n",
      "    macro avg       0.58      0.58      0.57        40\n",
      " weighted avg       0.59      0.57      0.57        40\n",
      "\n",
      "[[10 11]\n",
      " [ 6 13]]\n",
      "Accuracy: 0.575\n"
     ]
    }
   ],
   "source": [
    "rf.fit(X_train, y_train)\n",
    "\n",
    "# Make predictions and evaluate the model with the training set\n",
    "print(\"------Training Set------\")\n",
    "y_pred = rf.predict(X_train)\n",
    "generateClassificationReport( y_train, y_pred)\n",
    "\n",
    "# Make predictions and evaluate the model with the testing set\n",
    "print(\"\\n------Testing Set------\")\n",
    "y_pred = rf.predict(X_test)\n",
    "generateClassificationReport( y_test, y_pred)"
   ]
  },
  {
   "cell_type": "code",
   "execution_count": 257,
   "id": "4b174206",
   "metadata": {},
   "outputs": [
    {
     "name": "stdout",
     "output_type": "stream",
     "text": [
      "\n",
      "------Training Set------\n",
      "               precision    recall  f1-score   support\n",
      "\n",
      "Acne vulgaris       0.67      0.48      0.56        79\n",
      "      Rosacea       0.60      0.77      0.67        81\n",
      "\n",
      "     accuracy                           0.62       160\n",
      "    macro avg       0.63      0.62      0.62       160\n",
      " weighted avg       0.63      0.62      0.62       160\n",
      "\n",
      "[[38 41]\n",
      " [19 62]]\n",
      "Accuracy: 0.625\n",
      "\n",
      "------Testing Set------\n",
      "               precision    recall  f1-score   support\n",
      "\n",
      "Acne vulgaris       0.72      0.62      0.67        21\n",
      "      Rosacea       0.64      0.74      0.68        19\n",
      "\n",
      "     accuracy                           0.68        40\n",
      "    macro avg       0.68      0.68      0.67        40\n",
      " weighted avg       0.68      0.68      0.67        40\n",
      "\n",
      "[[13  8]\n",
      " [ 5 14]]\n",
      "Accuracy: 0.675\n"
     ]
    }
   ],
   "source": [
    "# Train SVM Classifier\n",
    "svm.fit(X_train, y_train)\n",
    "\n",
    "# Make predictions and evaluate the model with the training set\n",
    "print(\"\\n------Training Set------\")\n",
    "y_pred = svm.predict(X_train)\n",
    "generateClassificationReport( y_train, y_pred)\n",
    "\n",
    "# Make predictions and evaluate the model with the testing set\n",
    "print(\"\\n------Testing Set------\")\n",
    "y_pred = svm.predict(X_test)\n",
    "generateClassificationReport( y_test, y_pred)"
   ]
  },
  {
   "cell_type": "code",
   "execution_count": 258,
   "id": "92c94000",
   "metadata": {},
   "outputs": [
    {
     "name": "stdout",
     "output_type": "stream",
     "text": [
      "\n",
      "------Training Set------\n",
      "               precision    recall  f1-score   support\n",
      "\n",
      "Acne vulgaris       0.71      0.67      0.69        79\n",
      "      Rosacea       0.69      0.73      0.71        81\n",
      "\n",
      "     accuracy                           0.70       160\n",
      "    macro avg       0.70      0.70      0.70       160\n",
      " weighted avg       0.70      0.70      0.70       160\n",
      "\n",
      "[[53 26]\n",
      " [22 59]]\n",
      "Accuracy: 0.7\n",
      "\n",
      "------Testing Set------\n",
      "               precision    recall  f1-score   support\n",
      "\n",
      "Acne vulgaris       0.68      0.62      0.65        21\n",
      "      Rosacea       0.62      0.68      0.65        19\n",
      "\n",
      "     accuracy                           0.65        40\n",
      "    macro avg       0.65      0.65      0.65        40\n",
      " weighted avg       0.65      0.65      0.65        40\n",
      "\n",
      "[[13  8]\n",
      " [ 6 13]]\n",
      "Accuracy: 0.65\n"
     ]
    }
   ],
   "source": [
    "# Train KNN Classifier\n",
    "knn.fit(X_train, y_train)\n",
    "\n",
    "# Make predictions and evaluate the model with the training set\n",
    "print(\"\\n------Training Set------\")\n",
    "y_pred = knn.predict(X_train)\n",
    "generateClassificationReport( y_train, y_pred)\n",
    "\n",
    "# Make predictions and evaluate the model with the testing set\n",
    "print(\"\\n------Testing Set------\")\n",
    "y_pred = knn.predict(X_test)\n",
    "generateClassificationReport( y_test, y_pred)"
   ]
  },
  {
   "cell_type": "code",
   "execution_count": 259,
   "id": "83746483",
   "metadata": {},
   "outputs": [
    {
     "data": {
      "image/png": "[encoded data removed]",
      "text/plain": [
       "<Figure size 640x480 with 2 Axes>"
      ]
     },
     "metadata": {},
     "output_type": "display_data"
    },
    {
     "data": {
      "image/png": "[encoded data removed]",
      "text/plain": [
       "<Figure size 640x480 with 2 Axes>"
      ]
     },
     "metadata": {},
     "output_type": "display_data"
    },
    {
     "data": {
      "image/png": "[encoded data removed]",
      "text/plain": [
       "<Figure size 640x480 with 2 Axes>"
      ]
     },
     "metadata": {},
     "output_type": "display_data"
    }
   ],
   "source": [
    "def plot_confusion_matrix(y_true, y_pred, title):\n",
    "    cm = confusion_matrix(y_true, y_pred)\n",
    "    disp = ConfusionMatrixDisplay(confusion_matrix=cm)\n",
    "    disp.plot(cmap=plt.cm.Blues)\n",
    "    plt.title(title)\n",
    "    plt.show()\n",
    "\n",
    "# Plot confusion matrix for Random Forest\n",
    "plot_confusion_matrix(y_test, rf.predict(X_test), \"Random Forest Confusion Matrix\")\n",
    "# Plot confusion matrix for SVM\n",
    "plot_confusion_matrix(y_test, svm.predict(X_test), \"SVM Confusion Matrix\")\n",
    "# Plot confusion matrix for KNN\n",
    "plot_confusion_matrix(y_test, knn.predict(X_test), \"KNN Confusion Matrix\")"
   ]
  }
 ],
 "metadata": {
  "kernelspec": {
   "display_name": "PCD",
   "language": "python",
   "name": "python3"
  },
  "language_info": {
   "codemirror_mode": {
    "name": "ipython",
    "version": 3
   },
   "file_extension": ".py",
   "mimetype": "text/x-python",
   "name": "python",
   "nbconvert_exporter": "python",
   "pygments_lexer": "ipython3",
   "version": "3.10.17"
  }
 },
 "nbformat": 4,
 "nbformat_minor": 5
}
